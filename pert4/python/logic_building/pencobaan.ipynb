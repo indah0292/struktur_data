{
 "cells": [
  {
   "cell_type": "code",
   "execution_count": null,
   "id": "1e4245a6",
   "metadata": {},
   "outputs": [],
   "source": [
    "nama = input(\"Indah kusumawati\")\n",
    "nim = input(\"20240801108\")\n",
    "\n",
    "print(\"nama:\", nama)\n",
    "print(\"nim:\", nim)\n"
   ]
  }
 ],
 "metadata": {
  "kernelspec": {
   "display_name": "Python 3",
   "language": "python",
   "name": "python3"
  },
  "language_info": {
   "codemirror_mode": {
    "name": "ipython",
    "version": 3
   },
   "file_extension": ".py",
   "mimetype": "text/x-python",
   "name": "python",
   "nbconvert_exporter": "python",
   "pygments_lexer": "ipython3",
   "version": "3.12.3"
  }
 },
 "nbformat": 4,
 "nbformat_minor": 5
}
